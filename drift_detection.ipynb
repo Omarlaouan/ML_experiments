{
 "cells": [
  {
   "cell_type": "markdown",
   "metadata": {},
   "source": [
    "# DRIFT DETECTION EXPERIMENTS"
   ]
  },
  {
   "cell_type": "markdown",
   "metadata": {},
   "source": [
    "##### To Do\n",
    "- Evaluate influence of p value (do a graph)\n",
    "- Compare results of differents librairies"
   ]
  },
  {
   "cell_type": "markdown",
   "metadata": {},
   "source": [
    "## ALIBI DETECT"
   ]
  },
  {
   "cell_type": "markdown",
   "metadata": {},
   "source": [
    "Experimenting with some open source drift detection algorithms a d tryting to implement a simple drift detection algorithm from scratch"
   ]
  },
  {
   "cell_type": "code",
   "execution_count": 26,
   "metadata": {},
   "outputs": [],
   "source": [
    "import pandas as pd\n",
    "from sklearn.datasets import load_wine\n",
    "from sklearn.model_selection import train_test_split\n",
    "\n",
    "import alibi\n",
    "from alibi_detect.cd import TabularDrift\n",
    "\n",
    "import evidently\n",
    "\n",
    "\n",
    "import warnings\n",
    "warnings.filterwarnings('ignore')"
   ]
  },
  {
   "cell_type": "code",
   "execution_count": 3,
   "metadata": {},
   "outputs": [],
   "source": [
    "wine_data = load_wine()"
   ]
  },
  {
   "cell_type": "markdown",
   "metadata": {},
   "source": [
    "### Data drift"
   ]
  },
  {
   "cell_type": "code",
   "execution_count": 3,
   "metadata": {},
   "outputs": [],
   "source": [
    "def alibi_detect_drift (X_ref, X_test, p_val) : \n",
    "    '''\n",
    "    Simple function to detect drift with alibi package\n",
    "    '''\n",
    "\n",
    "    # Initialise the drift detector with reference data and a p value for statistical significance\n",
    "    cd = TabularDrift(x_ref=X_ref, p_val=p_val, categories_per_feature=None)\n",
    "    \n",
    "    # Predict if there is drift\n",
    "    preds = cd.predict(X_test)\n",
    "\n",
    "    # Format and return result\n",
    "    labels = {1:'Drift detected', 0: 'No drift'}\n",
    "    result = labels[preds['data']['is_drift']]\n",
    "    return result"
   ]
  },
  {
   "cell_type": "code",
   "execution_count": 4,
   "metadata": {},
   "outputs": [],
   "source": [
    "# Split the data between reference and test\n",
    "feature_names = wine_data.feature_names\n",
    "X,y = wine_data.data, wine_data.target\n",
    "X_ref, X_test, y_ref, y_test = train_test_split(X, y, test_size=0.50, random_state=42)"
   ]
  },
  {
   "cell_type": "code",
   "execution_count": 12,
   "metadata": {},
   "outputs": [
    {
     "data": {
      "text/plain": [
       "'No drift'"
      ]
     },
     "execution_count": 12,
     "metadata": {},
     "output_type": "execute_result"
    }
   ],
   "source": [
    "alibi_detect_drift(X_ref, X_test, p_val= 0.05)"
   ]
  },
  {
   "cell_type": "code",
   "execution_count": 6,
   "metadata": {},
   "outputs": [],
   "source": [
    "# Simulate a drift\n",
    "X_test_drifted = X_test + 100"
   ]
  },
  {
   "cell_type": "code",
   "execution_count": 7,
   "metadata": {},
   "outputs": [
    {
     "data": {
      "text/plain": [
       "'Drift detected'"
      ]
     },
     "execution_count": 7,
     "metadata": {},
     "output_type": "execute_result"
    }
   ],
   "source": [
    "alibi_detect_drift(X_ref, X_test_drifted, p_val= 0.05)"
   ]
  },
  {
   "cell_type": "markdown",
   "metadata": {},
   "source": [
    "### Label drift"
   ]
  },
  {
   "cell_type": "code",
   "execution_count": 11,
   "metadata": {},
   "outputs": [
    {
     "data": {
      "text/plain": [
       "'No drift'"
      ]
     },
     "execution_count": 11,
     "metadata": {},
     "output_type": "execute_result"
    }
   ],
   "source": [
    "# Same thing but with on y_ref and y_test\n",
    "alibi_detect_drift(y_ref, y_test, p_val= 0.05)"
   ]
  },
  {
   "cell_type": "code",
   "execution_count": 20,
   "metadata": {},
   "outputs": [
    {
     "data": {
      "text/plain": [
       "'Drift detected'"
      ]
     },
     "execution_count": 20,
     "metadata": {},
     "output_type": "execute_result"
    }
   ],
   "source": [
    "# Simulate a drift\n",
    "y_test_drifted = y_test * 1.1\n",
    "alibi_detect_drift(y_ref, y_test_drifted, p_val= 0.05)"
   ]
  },
  {
   "cell_type": "markdown",
   "metadata": {},
   "source": [
    "### Concept drift"
   ]
  },
  {
   "cell_type": "code",
   "execution_count": 1,
   "metadata": {},
   "outputs": [],
   "source": [
    "# todo\n",
    "from alibi_detect.cd import MMDDriftOnline"
   ]
  },
  {
   "cell_type": "code",
   "execution_count": 5,
   "metadata": {},
   "outputs": [
    {
     "name": "stderr",
     "output_type": "stream",
     "text": [
      "No GPU detected, fall back on CPU.\n"
     ]
    },
    {
     "name": "stdout",
     "output_type": "stream",
     "text": [
      "Generating permutations of kernel matrix..\n"
     ]
    },
    {
     "name": "stderr",
     "output_type": "stream",
     "text": [
      "100%|██████████| 2500/2500 [00:00<00:00, 29397.90it/s]\n",
      "Computing thresholds: 100%|██████████| 10/10 [00:01<00:00,  5.95it/s]\n"
     ]
    }
   ],
   "source": [
    "ert = 50\n",
    "window_size = 10\n",
    "cd = MMDDriftOnline(X_ref, ert, window_size, backend='pytorch',n_bootstraps=2500)"
   ]
  },
  {
   "cell_type": "code",
   "execution_count": 15,
   "metadata": {},
   "outputs": [
    {
     "data": {
      "text/plain": [
       "0"
      ]
     },
     "execution_count": 15,
     "metadata": {},
     "output_type": "execute_result"
    }
   ],
   "source": [
    "cd.predict(X_test[0])['data'] ['is_drift']"
   ]
  },
  {
   "cell_type": "markdown",
   "metadata": {},
   "source": [
    "## EVIDENTLY"
   ]
  },
  {
   "cell_type": "code",
   "execution_count": 23,
   "metadata": {},
   "outputs": [],
   "source": [
    "from evidently.report import Report\n",
    "from evidently.metric_preset import DataDriftPreset"
   ]
  },
  {
   "cell_type": "code",
   "execution_count": 27,
   "metadata": {},
   "outputs": [],
   "source": [
    "X_ref_df = pd.DataFrame(X_ref)"
   ]
  },
  {
   "cell_type": "code",
   "execution_count": 31,
   "metadata": {},
   "outputs": [],
   "source": [
    "# Initialize the report with the desired metrics\n",
    "data_drift_report = Report(metrics=[DataDriftPreset()])\n",
    "\n",
    "# Run the report with reference data and current data\n",
    "data_drift_report.run(reference_data=X_ref_df, current_data=X_ref_df)"
   ]
  },
  {
   "cell_type": "code",
   "execution_count": 30,
   "metadata": {},
   "outputs": [
    {
     "ename": "KeyError",
     "evalue": "'0'",
     "output_type": "error",
     "traceback": [
      "\u001b[0;31m---------------------------------------------------------------------------\u001b[0m",
      "\u001b[0;31mKeyError\u001b[0m                                  Traceback (most recent call last)",
      "File \u001b[0;32m~/anaconda3/envs/drift_detection/lib/python3.10/site-packages/IPython/core/formatters.py:347\u001b[0m, in \u001b[0;36mBaseFormatter.__call__\u001b[0;34m(self, obj)\u001b[0m\n\u001b[1;32m    345\u001b[0m     method \u001b[38;5;241m=\u001b[39m get_real_method(obj, \u001b[38;5;28mself\u001b[39m\u001b[38;5;241m.\u001b[39mprint_method)\n\u001b[1;32m    346\u001b[0m     \u001b[38;5;28;01mif\u001b[39;00m method \u001b[38;5;129;01mis\u001b[39;00m \u001b[38;5;129;01mnot\u001b[39;00m \u001b[38;5;28;01mNone\u001b[39;00m:\n\u001b[0;32m--> 347\u001b[0m         \u001b[38;5;28;01mreturn\u001b[39;00m \u001b[43mmethod\u001b[49m\u001b[43m(\u001b[49m\u001b[43m)\u001b[49m\n\u001b[1;32m    348\u001b[0m     \u001b[38;5;28;01mreturn\u001b[39;00m \u001b[38;5;28;01mNone\u001b[39;00m\n\u001b[1;32m    349\u001b[0m \u001b[38;5;28;01melse\u001b[39;00m:\n",
      "File \u001b[0;32m~/anaconda3/envs/drift_detection/lib/python3.10/site-packages/evidently/suite/base_suite.py:216\u001b[0m, in \u001b[0;36mDisplay._repr_html_\u001b[0;34m(self)\u001b[0m\n\u001b[1;32m    215\u001b[0m \u001b[38;5;28;01mdef\u001b[39;00m \u001b[38;5;21m_repr_html_\u001b[39m(\u001b[38;5;28mself\u001b[39m):\n\u001b[0;32m--> 216\u001b[0m     dashboard_id, dashboard_info, graphs \u001b[38;5;241m=\u001b[39m \u001b[38;5;28;43mself\u001b[39;49m\u001b[38;5;241;43m.\u001b[39;49m\u001b[43m_build_dashboard_info\u001b[49m\u001b[43m(\u001b[49m\u001b[43m)\u001b[49m\n\u001b[1;32m    217\u001b[0m     template_params \u001b[38;5;241m=\u001b[39m TemplateParams(\n\u001b[1;32m    218\u001b[0m         dashboard_id\u001b[38;5;241m=\u001b[39mdashboard_id,\n\u001b[1;32m    219\u001b[0m         dashboard_info\u001b[38;5;241m=\u001b[39mdashboard_info,\n\u001b[1;32m    220\u001b[0m         additional_graphs\u001b[38;5;241m=\u001b[39mgraphs,\n\u001b[1;32m    221\u001b[0m     )\n\u001b[1;32m    222\u001b[0m     \u001b[38;5;28;01mreturn\u001b[39;00m \u001b[38;5;28mself\u001b[39m\u001b[38;5;241m.\u001b[39m_render(inline_iframe_html_template, template_params)\n",
      "File \u001b[0;32m~/anaconda3/envs/drift_detection/lib/python3.10/site-packages/evidently/report/report.py:231\u001b[0m, in \u001b[0;36mReport._build_dashboard_info\u001b[0;34m(self)\u001b[0m\n\u001b[1;32m    229\u001b[0m \u001b[38;5;66;03m# set the color scheme from the report for each render\u001b[39;00m\n\u001b[1;32m    230\u001b[0m renderer\u001b[38;5;241m.\u001b[39mcolor_options \u001b[38;5;241m=\u001b[39m color_options\n\u001b[0;32m--> 231\u001b[0m html_info \u001b[38;5;241m=\u001b[39m \u001b[43mrenderer\u001b[49m\u001b[38;5;241;43m.\u001b[39;49m\u001b[43mrender_html\u001b[49m\u001b[43m(\u001b[49m\u001b[43mmetric\u001b[49m\u001b[43m)\u001b[49m\n\u001b[1;32m    232\u001b[0m set_source_fingerprint(html_info, metric)\n\u001b[1;32m    233\u001b[0m replace_widgets_ids(html_info, id_generator)\n",
      "File \u001b[0;32m~/anaconda3/envs/drift_detection/lib/python3.10/site-packages/evidently/metrics/data_drift/dataset_drift_metric.py:111\u001b[0m, in \u001b[0;36mDataDriftMetricsRenderer.render_html\u001b[0;34m(self, obj)\u001b[0m\n\u001b[1;32m    110\u001b[0m \u001b[38;5;28;01mdef\u001b[39;00m \u001b[38;5;21mrender_html\u001b[39m(\u001b[38;5;28mself\u001b[39m, obj: DatasetDriftMetric) \u001b[38;5;241m-\u001b[39m\u001b[38;5;241m>\u001b[39m List[BaseWidgetInfo]:\n\u001b[0;32m--> 111\u001b[0m     result \u001b[38;5;241m=\u001b[39m \u001b[43mobj\u001b[49m\u001b[38;5;241;43m.\u001b[39;49m\u001b[43mget_result\u001b[49m\u001b[43m(\u001b[49m\u001b[43m)\u001b[49m\n\u001b[1;32m    113\u001b[0m     \u001b[38;5;28;01mif\u001b[39;00m result\u001b[38;5;241m.\u001b[39mdataset_drift:\n\u001b[1;32m    114\u001b[0m         drift_detected \u001b[38;5;241m=\u001b[39m \u001b[38;5;124m\"\u001b[39m\u001b[38;5;124mdetected\u001b[39m\u001b[38;5;124m\"\u001b[39m\n",
      "File \u001b[0;32m~/anaconda3/envs/drift_detection/lib/python3.10/site-packages/evidently/base_metric.py:259\u001b[0m, in \u001b[0;36mMetric.get_result\u001b[0;34m(self)\u001b[0m\n\u001b[1;32m    257\u001b[0m result \u001b[38;5;241m=\u001b[39m \u001b[38;5;28mself\u001b[39m\u001b[38;5;241m.\u001b[39m_context\u001b[38;5;241m.\u001b[39mmetric_results\u001b[38;5;241m.\u001b[39mget(\u001b[38;5;28mself\u001b[39m, \u001b[38;5;28;01mNone\u001b[39;00m)\n\u001b[1;32m    258\u001b[0m \u001b[38;5;28;01mif\u001b[39;00m \u001b[38;5;28misinstance\u001b[39m(result, ErrorResult):\n\u001b[0;32m--> 259\u001b[0m     \u001b[38;5;28;01mraise\u001b[39;00m result\u001b[38;5;241m.\u001b[39mexception\n\u001b[1;32m    260\u001b[0m \u001b[38;5;28;01mif\u001b[39;00m result \u001b[38;5;129;01mis\u001b[39;00m \u001b[38;5;28;01mNone\u001b[39;00m:\n\u001b[1;32m    261\u001b[0m     \u001b[38;5;28;01mraise\u001b[39;00m \u001b[38;5;167;01mValueError\u001b[39;00m(\u001b[38;5;124mf\u001b[39m\u001b[38;5;124m\"\u001b[39m\u001b[38;5;124mNo result found for metric \u001b[39m\u001b[38;5;132;01m{\u001b[39;00m\u001b[38;5;28mself\u001b[39m\u001b[38;5;132;01m}\u001b[39;00m\u001b[38;5;124m of type \u001b[39m\u001b[38;5;132;01m{\u001b[39;00m\u001b[38;5;28mtype\u001b[39m(\u001b[38;5;28mself\u001b[39m)\u001b[38;5;241m.\u001b[39m\u001b[38;5;18m__name__\u001b[39m\u001b[38;5;132;01m}\u001b[39;00m\u001b[38;5;124m\"\u001b[39m)\n",
      "    \u001b[0;31m[... skipping hidden 1 frame]\u001b[0m\n",
      "Cell \u001b[0;32mIn[29], line 1\u001b[0m\n\u001b[0;32m----> 1\u001b[0m \u001b[43mdata_drift_report\u001b[49m\u001b[38;5;241;43m.\u001b[39;49m\u001b[43msave_html\u001b[49m\u001b[43m(\u001b[49m\u001b[38;5;124;43m'\u001b[39;49m\u001b[38;5;124;43mdata_drift_report.html\u001b[39;49m\u001b[38;5;124;43m'\u001b[39;49m\u001b[43m)\u001b[49m\n",
      "File \u001b[0;32m~/anaconda3/envs/drift_detection/lib/python3.10/site-packages/evidently/suite/base_suite.py:260\u001b[0m, in \u001b[0;36mDisplay.save_html\u001b[0;34m(self, filename, mode)\u001b[0m\n\u001b[1;32m    255\u001b[0m \u001b[38;5;28;01mdef\u001b[39;00m \u001b[38;5;21msave_html\u001b[39m(\n\u001b[1;32m    256\u001b[0m     \u001b[38;5;28mself\u001b[39m,\n\u001b[1;32m    257\u001b[0m     filename: Union[\u001b[38;5;28mstr\u001b[39m, IO],\n\u001b[1;32m    258\u001b[0m     mode: Union[\u001b[38;5;28mstr\u001b[39m, SaveMode] \u001b[38;5;241m=\u001b[39m SaveMode\u001b[38;5;241m.\u001b[39mSINGLE_FILE,\n\u001b[1;32m    259\u001b[0m ):\n\u001b[0;32m--> 260\u001b[0m     dashboard_id, dashboard_info, graphs \u001b[38;5;241m=\u001b[39m \u001b[38;5;28;43mself\u001b[39;49m\u001b[38;5;241;43m.\u001b[39;49m\u001b[43m_build_dashboard_info\u001b[49m\u001b[43m(\u001b[49m\u001b[43m)\u001b[49m\n\u001b[1;32m    261\u001b[0m     \u001b[38;5;28;01mif\u001b[39;00m \u001b[38;5;28misinstance\u001b[39m(mode, \u001b[38;5;28mstr\u001b[39m):\n\u001b[1;32m    262\u001b[0m         _mode \u001b[38;5;241m=\u001b[39m SaveModeMap\u001b[38;5;241m.\u001b[39mget(mode)\n",
      "File \u001b[0;32m~/anaconda3/envs/drift_detection/lib/python3.10/site-packages/evidently/report/report.py:231\u001b[0m, in \u001b[0;36mReport._build_dashboard_info\u001b[0;34m(self)\u001b[0m\n\u001b[1;32m    229\u001b[0m \u001b[38;5;66;03m# set the color scheme from the report for each render\u001b[39;00m\n\u001b[1;32m    230\u001b[0m renderer\u001b[38;5;241m.\u001b[39mcolor_options \u001b[38;5;241m=\u001b[39m color_options\n\u001b[0;32m--> 231\u001b[0m html_info \u001b[38;5;241m=\u001b[39m \u001b[43mrenderer\u001b[49m\u001b[38;5;241;43m.\u001b[39;49m\u001b[43mrender_html\u001b[49m\u001b[43m(\u001b[49m\u001b[43mmetric\u001b[49m\u001b[43m)\u001b[49m\n\u001b[1;32m    232\u001b[0m set_source_fingerprint(html_info, metric)\n\u001b[1;32m    233\u001b[0m replace_widgets_ids(html_info, id_generator)\n",
      "File \u001b[0;32m~/anaconda3/envs/drift_detection/lib/python3.10/site-packages/evidently/metrics/data_drift/dataset_drift_metric.py:111\u001b[0m, in \u001b[0;36mDataDriftMetricsRenderer.render_html\u001b[0;34m(self, obj)\u001b[0m\n\u001b[1;32m    110\u001b[0m \u001b[38;5;28;01mdef\u001b[39;00m \u001b[38;5;21mrender_html\u001b[39m(\u001b[38;5;28mself\u001b[39m, obj: DatasetDriftMetric) \u001b[38;5;241m-\u001b[39m\u001b[38;5;241m>\u001b[39m List[BaseWidgetInfo]:\n\u001b[0;32m--> 111\u001b[0m     result \u001b[38;5;241m=\u001b[39m \u001b[43mobj\u001b[49m\u001b[38;5;241;43m.\u001b[39;49m\u001b[43mget_result\u001b[49m\u001b[43m(\u001b[49m\u001b[43m)\u001b[49m\n\u001b[1;32m    113\u001b[0m     \u001b[38;5;28;01mif\u001b[39;00m result\u001b[38;5;241m.\u001b[39mdataset_drift:\n\u001b[1;32m    114\u001b[0m         drift_detected \u001b[38;5;241m=\u001b[39m \u001b[38;5;124m\"\u001b[39m\u001b[38;5;124mdetected\u001b[39m\u001b[38;5;124m\"\u001b[39m\n",
      "File \u001b[0;32m~/anaconda3/envs/drift_detection/lib/python3.10/site-packages/evidently/base_metric.py:259\u001b[0m, in \u001b[0;36mMetric.get_result\u001b[0;34m(self)\u001b[0m\n\u001b[1;32m    257\u001b[0m result \u001b[38;5;241m=\u001b[39m \u001b[38;5;28mself\u001b[39m\u001b[38;5;241m.\u001b[39m_context\u001b[38;5;241m.\u001b[39mmetric_results\u001b[38;5;241m.\u001b[39mget(\u001b[38;5;28mself\u001b[39m, \u001b[38;5;28;01mNone\u001b[39;00m)\n\u001b[1;32m    258\u001b[0m \u001b[38;5;28;01mif\u001b[39;00m \u001b[38;5;28misinstance\u001b[39m(result, ErrorResult):\n\u001b[0;32m--> 259\u001b[0m     \u001b[38;5;28;01mraise\u001b[39;00m result\u001b[38;5;241m.\u001b[39mexception\n\u001b[1;32m    260\u001b[0m \u001b[38;5;28;01mif\u001b[39;00m result \u001b[38;5;129;01mis\u001b[39;00m \u001b[38;5;28;01mNone\u001b[39;00m:\n\u001b[1;32m    261\u001b[0m     \u001b[38;5;28;01mraise\u001b[39;00m \u001b[38;5;167;01mValueError\u001b[39;00m(\u001b[38;5;124mf\u001b[39m\u001b[38;5;124m\"\u001b[39m\u001b[38;5;124mNo result found for metric \u001b[39m\u001b[38;5;132;01m{\u001b[39;00m\u001b[38;5;28mself\u001b[39m\u001b[38;5;132;01m}\u001b[39;00m\u001b[38;5;124m of type \u001b[39m\u001b[38;5;132;01m{\u001b[39;00m\u001b[38;5;28mtype\u001b[39m(\u001b[38;5;28mself\u001b[39m)\u001b[38;5;241m.\u001b[39m\u001b[38;5;18m__name__\u001b[39m\u001b[38;5;132;01m}\u001b[39;00m\u001b[38;5;124m\"\u001b[39m)\n",
      "File \u001b[0;32m~/anaconda3/envs/drift_detection/lib/python3.10/site-packages/evidently/calculation_engine/engine.py:53\u001b[0m, in \u001b[0;36mEngine.execute_metrics\u001b[0;34m(self, context, data)\u001b[0m\n\u001b[1;32m     51\u001b[0m logging\u001b[38;5;241m.\u001b[39mdebug(\u001b[38;5;124mf\u001b[39m\u001b[38;5;124m\"\u001b[39m\u001b[38;5;124mExecuting \u001b[39m\u001b[38;5;132;01m{\u001b[39;00m\u001b[38;5;28mtype\u001b[39m(calculation)\u001b[38;5;132;01m}\u001b[39;00m\u001b[38;5;124m...\u001b[39m\u001b[38;5;124m\"\u001b[39m)\n\u001b[1;32m     52\u001b[0m \u001b[38;5;28;01mtry\u001b[39;00m:\n\u001b[0;32m---> 53\u001b[0m     calculations[metric] \u001b[38;5;241m=\u001b[39m \u001b[43mcalculation\u001b[49m\u001b[38;5;241;43m.\u001b[39;49m\u001b[43mcalculate\u001b[49m\u001b[43m(\u001b[49m\u001b[43mcontext\u001b[49m\u001b[43m,\u001b[49m\u001b[43m \u001b[49m\u001b[43mconverted_data\u001b[49m\u001b[43m)\u001b[49m\n\u001b[1;32m     54\u001b[0m \u001b[38;5;28;01mexcept\u001b[39;00m \u001b[38;5;167;01mBaseException\u001b[39;00m \u001b[38;5;28;01mas\u001b[39;00m ex:\n\u001b[1;32m     55\u001b[0m     calculations[metric] \u001b[38;5;241m=\u001b[39m ErrorResult(exception\u001b[38;5;241m=\u001b[39mex)\n",
      "File \u001b[0;32m~/anaconda3/envs/drift_detection/lib/python3.10/site-packages/evidently/calculation_engine/python_engine.py:100\u001b[0m, in \u001b[0;36mPythonEngine.get_metric_implementation.<locals>._Wrapper.calculate\u001b[0;34m(self, context, data)\u001b[0m\n\u001b[1;32m     99\u001b[0m \u001b[38;5;28;01mdef\u001b[39;00m \u001b[38;5;21mcalculate\u001b[39m(\u001b[38;5;28mself\u001b[39m, context, data: PythonInputData):\n\u001b[0;32m--> 100\u001b[0m     \u001b[38;5;28;01mreturn\u001b[39;00m \u001b[38;5;28;43mself\u001b[39;49m\u001b[38;5;241;43m.\u001b[39;49m\u001b[43mmetric\u001b[49m\u001b[38;5;241;43m.\u001b[39;49m\u001b[43mcalculate\u001b[49m\u001b[43m(\u001b[49m\u001b[43mdata\u001b[49m\u001b[43m)\u001b[49m\n",
      "File \u001b[0;32m~/anaconda3/envs/drift_detection/lib/python3.10/site-packages/evidently/metrics/data_drift/dataset_drift_metric.py:90\u001b[0m, in \u001b[0;36mDatasetDriftMetric.calculate\u001b[0;34m(self, data)\u001b[0m\n\u001b[1;32m     87\u001b[0m     \u001b[38;5;28;01mraise\u001b[39;00m \u001b[38;5;167;01mValueError\u001b[39;00m(\u001b[38;5;124m\"\u001b[39m\u001b[38;5;124mReference dataset should be present\u001b[39m\u001b[38;5;124m\"\u001b[39m)\n\u001b[1;32m     89\u001b[0m dataset_columns \u001b[38;5;241m=\u001b[39m process_columns(data\u001b[38;5;241m.\u001b[39mreference_data, data\u001b[38;5;241m.\u001b[39mcolumn_mapping)\n\u001b[0;32m---> 90\u001b[0m result \u001b[38;5;241m=\u001b[39m \u001b[43mget_drift_for_columns\u001b[49m\u001b[43m(\u001b[49m\n\u001b[1;32m     91\u001b[0m \u001b[43m    \u001b[49m\u001b[43mcurrent_data\u001b[49m\u001b[38;5;241;43m=\u001b[39;49m\u001b[43mdata\u001b[49m\u001b[38;5;241;43m.\u001b[39;49m\u001b[43mcurrent_data\u001b[49m\u001b[43m,\u001b[49m\n\u001b[1;32m     92\u001b[0m \u001b[43m    \u001b[49m\u001b[43mreference_data\u001b[49m\u001b[38;5;241;43m=\u001b[39;49m\u001b[43mdata\u001b[49m\u001b[38;5;241;43m.\u001b[39;49m\u001b[43mreference_data\u001b[49m\u001b[43m,\u001b[49m\n\u001b[1;32m     93\u001b[0m \u001b[43m    \u001b[49m\u001b[43mdata_drift_options\u001b[49m\u001b[38;5;241;43m=\u001b[39;49m\u001b[38;5;28;43mself\u001b[39;49m\u001b[38;5;241;43m.\u001b[39;49m\u001b[43mdrift_options\u001b[49m\u001b[43m,\u001b[49m\n\u001b[1;32m     94\u001b[0m \u001b[43m    \u001b[49m\u001b[43mdrift_share_threshold\u001b[49m\u001b[38;5;241;43m=\u001b[39;49m\u001b[38;5;28;43mself\u001b[39;49m\u001b[38;5;241;43m.\u001b[39;49m\u001b[43mdrift_share\u001b[49m\u001b[43m,\u001b[49m\n\u001b[1;32m     95\u001b[0m \u001b[43m    \u001b[49m\u001b[43mdataset_columns\u001b[49m\u001b[38;5;241;43m=\u001b[39;49m\u001b[43mdataset_columns\u001b[49m\u001b[43m,\u001b[49m\n\u001b[1;32m     96\u001b[0m \u001b[43m    \u001b[49m\u001b[43mcolumns\u001b[49m\u001b[38;5;241;43m=\u001b[39;49m\u001b[38;5;28;43mself\u001b[39;49m\u001b[38;5;241;43m.\u001b[39;49m\u001b[43mcolumns\u001b[49m\u001b[43m,\u001b[49m\n\u001b[1;32m     97\u001b[0m \u001b[43m    \u001b[49m\u001b[43magg_data\u001b[49m\u001b[38;5;241;43m=\u001b[39;49m\u001b[38;5;28;43;01mTrue\u001b[39;49;00m\u001b[43m,\u001b[49m\n\u001b[1;32m     98\u001b[0m \u001b[43m\u001b[49m\u001b[43m)\u001b[49m\n\u001b[1;32m     99\u001b[0m \u001b[38;5;28;01mreturn\u001b[39;00m DatasetDriftMetricResults(\n\u001b[1;32m    100\u001b[0m     drift_share\u001b[38;5;241m=\u001b[39m\u001b[38;5;28mself\u001b[39m\u001b[38;5;241m.\u001b[39mdrift_share,\n\u001b[1;32m    101\u001b[0m     number_of_columns\u001b[38;5;241m=\u001b[39mresult\u001b[38;5;241m.\u001b[39mnumber_of_columns,\n\u001b[0;32m   (...)\u001b[0m\n\u001b[1;32m    104\u001b[0m     dataset_drift\u001b[38;5;241m=\u001b[39mresult\u001b[38;5;241m.\u001b[39mdataset_drift,\n\u001b[1;32m    105\u001b[0m )\n",
      "File \u001b[0;32m~/anaconda3/envs/drift_detection/lib/python3.10/site-packages/evidently/calculations/data_drift.py:452\u001b[0m, in \u001b[0;36mget_drift_for_columns\u001b[0;34m(current_data, reference_data, dataset_columns, data_drift_options, drift_share_threshold, columns, agg_data)\u001b[0m\n\u001b[1;32m    449\u001b[0m drift_by_columns: Dict[\u001b[38;5;28mstr\u001b[39m, ColumnDataDriftMetrics] \u001b[38;5;241m=\u001b[39m {}\n\u001b[1;32m    451\u001b[0m dataset \u001b[38;5;241m=\u001b[39m pd\u001b[38;5;241m.\u001b[39mconcat([reference_data, current_data])\n\u001b[0;32m--> 452\u001b[0m columns_types \u001b[38;5;241m=\u001b[39m {\n\u001b[1;32m    453\u001b[0m     column_name: recognize_column_type_(\n\u001b[1;32m    454\u001b[0m         dataset\u001b[38;5;241m=\u001b[39mdataset,\n\u001b[1;32m    455\u001b[0m         column_name\u001b[38;5;241m=\u001b[39mcolumn_name,\n\u001b[1;32m    456\u001b[0m         columns\u001b[38;5;241m=\u001b[39mdataset_columns,\n\u001b[1;32m    457\u001b[0m     )\n\u001b[1;32m    458\u001b[0m     \u001b[38;5;28;01mfor\u001b[39;00m column_name \u001b[38;5;129;01min\u001b[39;00m columns\n\u001b[1;32m    459\u001b[0m }\n\u001b[1;32m    461\u001b[0m num_columns \u001b[38;5;241m=\u001b[39m [k \u001b[38;5;28;01mfor\u001b[39;00m k, v \u001b[38;5;129;01min\u001b[39;00m columns_types\u001b[38;5;241m.\u001b[39mitems() \u001b[38;5;28;01mif\u001b[39;00m v \u001b[38;5;241m==\u001b[39m ColumnType\u001b[38;5;241m.\u001b[39mNumerical]\n\u001b[1;32m    463\u001b[0m is_current_contains_nans \u001b[38;5;241m=\u001b[39m current_data\u001b[38;5;241m.\u001b[39misna()\u001b[38;5;241m.\u001b[39many()\n",
      "File \u001b[0;32m~/anaconda3/envs/drift_detection/lib/python3.10/site-packages/evidently/calculations/data_drift.py:453\u001b[0m, in \u001b[0;36m<dictcomp>\u001b[0;34m(.0)\u001b[0m\n\u001b[1;32m    449\u001b[0m drift_by_columns: Dict[\u001b[38;5;28mstr\u001b[39m, ColumnDataDriftMetrics] \u001b[38;5;241m=\u001b[39m {}\n\u001b[1;32m    451\u001b[0m dataset \u001b[38;5;241m=\u001b[39m pd\u001b[38;5;241m.\u001b[39mconcat([reference_data, current_data])\n\u001b[1;32m    452\u001b[0m columns_types \u001b[38;5;241m=\u001b[39m {\n\u001b[0;32m--> 453\u001b[0m     column_name: \u001b[43mrecognize_column_type_\u001b[49m\u001b[43m(\u001b[49m\n\u001b[1;32m    454\u001b[0m \u001b[43m        \u001b[49m\u001b[43mdataset\u001b[49m\u001b[38;5;241;43m=\u001b[39;49m\u001b[43mdataset\u001b[49m\u001b[43m,\u001b[49m\n\u001b[1;32m    455\u001b[0m \u001b[43m        \u001b[49m\u001b[43mcolumn_name\u001b[49m\u001b[38;5;241;43m=\u001b[39;49m\u001b[43mcolumn_name\u001b[49m\u001b[43m,\u001b[49m\n\u001b[1;32m    456\u001b[0m \u001b[43m        \u001b[49m\u001b[43mcolumns\u001b[49m\u001b[38;5;241;43m=\u001b[39;49m\u001b[43mdataset_columns\u001b[49m\u001b[43m,\u001b[49m\n\u001b[1;32m    457\u001b[0m \u001b[43m    \u001b[49m\u001b[43m)\u001b[49m\n\u001b[1;32m    458\u001b[0m     \u001b[38;5;28;01mfor\u001b[39;00m column_name \u001b[38;5;129;01min\u001b[39;00m columns\n\u001b[1;32m    459\u001b[0m }\n\u001b[1;32m    461\u001b[0m num_columns \u001b[38;5;241m=\u001b[39m [k \u001b[38;5;28;01mfor\u001b[39;00m k, v \u001b[38;5;129;01min\u001b[39;00m columns_types\u001b[38;5;241m.\u001b[39mitems() \u001b[38;5;28;01mif\u001b[39;00m v \u001b[38;5;241m==\u001b[39m ColumnType\u001b[38;5;241m.\u001b[39mNumerical]\n\u001b[1;32m    463\u001b[0m is_current_contains_nans \u001b[38;5;241m=\u001b[39m current_data\u001b[38;5;241m.\u001b[39misna()\u001b[38;5;241m.\u001b[39many()\n",
      "File \u001b[0;32m~/anaconda3/envs/drift_detection/lib/python3.10/site-packages/evidently/utils/data_operations.py:174\u001b[0m, in \u001b[0;36mrecognize_column_type_\u001b[0;34m(dataset, column_name, columns)\u001b[0m\n\u001b[1;32m    172\u001b[0m \u001b[38;5;28;01mdef\u001b[39;00m \u001b[38;5;21mrecognize_column_type_\u001b[39m(dataset: pd\u001b[38;5;241m.\u001b[39mDataFrame, column_name: \u001b[38;5;28mstr\u001b[39m, columns: DatasetColumns) \u001b[38;5;241m-\u001b[39m\u001b[38;5;241m>\u001b[39m ColumnType:\n\u001b[1;32m    173\u001b[0m \u001b[38;5;250m    \u001b[39m\u001b[38;5;124;03m\"\"\"Try to get the column type.\"\"\"\u001b[39;00m\n\u001b[0;32m--> 174\u001b[0m     column \u001b[38;5;241m=\u001b[39m \u001b[43mdataset\u001b[49m\u001b[43m[\u001b[49m\u001b[43mcolumn_name\u001b[49m\u001b[43m]\u001b[49m\n\u001b[1;32m    175\u001b[0m     reg_condition \u001b[38;5;241m=\u001b[39m columns\u001b[38;5;241m.\u001b[39mtask \u001b[38;5;241m==\u001b[39m \u001b[38;5;124m\"\u001b[39m\u001b[38;5;124mregression\u001b[39m\u001b[38;5;124m\"\u001b[39m \u001b[38;5;129;01mor\u001b[39;00m (\n\u001b[1;32m    176\u001b[0m         pd\u001b[38;5;241m.\u001b[39mapi\u001b[38;5;241m.\u001b[39mtypes\u001b[38;5;241m.\u001b[39mis_numeric_dtype(column) \u001b[38;5;129;01mand\u001b[39;00m columns\u001b[38;5;241m.\u001b[39mtask \u001b[38;5;241m!=\u001b[39m \u001b[38;5;124m\"\u001b[39m\u001b[38;5;124mclassification\u001b[39m\u001b[38;5;124m\"\u001b[39m \u001b[38;5;129;01mand\u001b[39;00m column\u001b[38;5;241m.\u001b[39mnunique() \u001b[38;5;241m>\u001b[39m \u001b[38;5;241m5\u001b[39m\n\u001b[1;32m    177\u001b[0m     )\n\u001b[1;32m    178\u001b[0m     \u001b[38;5;28;01mif\u001b[39;00m column_name \u001b[38;5;241m==\u001b[39m columns\u001b[38;5;241m.\u001b[39mutility_columns\u001b[38;5;241m.\u001b[39mtarget:\n",
      "File \u001b[0;32m~/anaconda3/envs/drift_detection/lib/python3.10/site-packages/pandas/core/frame.py:4102\u001b[0m, in \u001b[0;36mDataFrame.__getitem__\u001b[0;34m(self, key)\u001b[0m\n\u001b[1;32m   4100\u001b[0m \u001b[38;5;28;01mif\u001b[39;00m \u001b[38;5;28mself\u001b[39m\u001b[38;5;241m.\u001b[39mcolumns\u001b[38;5;241m.\u001b[39mnlevels \u001b[38;5;241m>\u001b[39m \u001b[38;5;241m1\u001b[39m:\n\u001b[1;32m   4101\u001b[0m     \u001b[38;5;28;01mreturn\u001b[39;00m \u001b[38;5;28mself\u001b[39m\u001b[38;5;241m.\u001b[39m_getitem_multilevel(key)\n\u001b[0;32m-> 4102\u001b[0m indexer \u001b[38;5;241m=\u001b[39m \u001b[38;5;28;43mself\u001b[39;49m\u001b[38;5;241;43m.\u001b[39;49m\u001b[43mcolumns\u001b[49m\u001b[38;5;241;43m.\u001b[39;49m\u001b[43mget_loc\u001b[49m\u001b[43m(\u001b[49m\u001b[43mkey\u001b[49m\u001b[43m)\u001b[49m\n\u001b[1;32m   4103\u001b[0m \u001b[38;5;28;01mif\u001b[39;00m is_integer(indexer):\n\u001b[1;32m   4104\u001b[0m     indexer \u001b[38;5;241m=\u001b[39m [indexer]\n",
      "File \u001b[0;32m~/anaconda3/envs/drift_detection/lib/python3.10/site-packages/pandas/core/indexes/range.py:417\u001b[0m, in \u001b[0;36mRangeIndex.get_loc\u001b[0;34m(self, key)\u001b[0m\n\u001b[1;32m    415\u001b[0m         \u001b[38;5;28;01mraise\u001b[39;00m \u001b[38;5;167;01mKeyError\u001b[39;00m(key) \u001b[38;5;28;01mfrom\u001b[39;00m \u001b[38;5;21;01merr\u001b[39;00m\n\u001b[1;32m    416\u001b[0m \u001b[38;5;28;01mif\u001b[39;00m \u001b[38;5;28misinstance\u001b[39m(key, Hashable):\n\u001b[0;32m--> 417\u001b[0m     \u001b[38;5;28;01mraise\u001b[39;00m \u001b[38;5;167;01mKeyError\u001b[39;00m(key)\n\u001b[1;32m    418\u001b[0m \u001b[38;5;28mself\u001b[39m\u001b[38;5;241m.\u001b[39m_check_indexing_error(key)\n\u001b[1;32m    419\u001b[0m \u001b[38;5;28;01mraise\u001b[39;00m \u001b[38;5;167;01mKeyError\u001b[39;00m(key)\n",
      "\u001b[0;31mKeyError\u001b[0m: '0'"
     ]
    },
    {
     "data": {
      "text/plain": [
       "<evidently.report.report.Report at 0x346b56650>"
      ]
     },
     "execution_count": 30,
     "metadata": {},
     "output_type": "execute_result"
    }
   ],
   "source": [
    "data_drift_report"
   ]
  },
  {
   "cell_type": "code",
   "execution_count": 29,
   "metadata": {},
   "outputs": [
    {
     "ename": "KeyError",
     "evalue": "'0'",
     "output_type": "error",
     "traceback": [
      "\u001b[0;31m---------------------------------------------------------------------------\u001b[0m",
      "\u001b[0;31mKeyError\u001b[0m                                  Traceback (most recent call last)",
      "Cell \u001b[0;32mIn[29], line 1\u001b[0m\n\u001b[0;32m----> 1\u001b[0m \u001b[43mdata_drift_report\u001b[49m\u001b[38;5;241;43m.\u001b[39;49m\u001b[43msave_html\u001b[49m\u001b[43m(\u001b[49m\u001b[38;5;124;43m'\u001b[39;49m\u001b[38;5;124;43mdata_drift_report.html\u001b[39;49m\u001b[38;5;124;43m'\u001b[39;49m\u001b[43m)\u001b[49m\n",
      "File \u001b[0;32m~/anaconda3/envs/drift_detection/lib/python3.10/site-packages/evidently/suite/base_suite.py:260\u001b[0m, in \u001b[0;36mDisplay.save_html\u001b[0;34m(self, filename, mode)\u001b[0m\n\u001b[1;32m    255\u001b[0m \u001b[38;5;28;01mdef\u001b[39;00m \u001b[38;5;21msave_html\u001b[39m(\n\u001b[1;32m    256\u001b[0m     \u001b[38;5;28mself\u001b[39m,\n\u001b[1;32m    257\u001b[0m     filename: Union[\u001b[38;5;28mstr\u001b[39m, IO],\n\u001b[1;32m    258\u001b[0m     mode: Union[\u001b[38;5;28mstr\u001b[39m, SaveMode] \u001b[38;5;241m=\u001b[39m SaveMode\u001b[38;5;241m.\u001b[39mSINGLE_FILE,\n\u001b[1;32m    259\u001b[0m ):\n\u001b[0;32m--> 260\u001b[0m     dashboard_id, dashboard_info, graphs \u001b[38;5;241m=\u001b[39m \u001b[38;5;28;43mself\u001b[39;49m\u001b[38;5;241;43m.\u001b[39;49m\u001b[43m_build_dashboard_info\u001b[49m\u001b[43m(\u001b[49m\u001b[43m)\u001b[49m\n\u001b[1;32m    261\u001b[0m     \u001b[38;5;28;01mif\u001b[39;00m \u001b[38;5;28misinstance\u001b[39m(mode, \u001b[38;5;28mstr\u001b[39m):\n\u001b[1;32m    262\u001b[0m         _mode \u001b[38;5;241m=\u001b[39m SaveModeMap\u001b[38;5;241m.\u001b[39mget(mode)\n",
      "File \u001b[0;32m~/anaconda3/envs/drift_detection/lib/python3.10/site-packages/evidently/report/report.py:231\u001b[0m, in \u001b[0;36mReport._build_dashboard_info\u001b[0;34m(self)\u001b[0m\n\u001b[1;32m    229\u001b[0m \u001b[38;5;66;03m# set the color scheme from the report for each render\u001b[39;00m\n\u001b[1;32m    230\u001b[0m renderer\u001b[38;5;241m.\u001b[39mcolor_options \u001b[38;5;241m=\u001b[39m color_options\n\u001b[0;32m--> 231\u001b[0m html_info \u001b[38;5;241m=\u001b[39m \u001b[43mrenderer\u001b[49m\u001b[38;5;241;43m.\u001b[39;49m\u001b[43mrender_html\u001b[49m\u001b[43m(\u001b[49m\u001b[43mmetric\u001b[49m\u001b[43m)\u001b[49m\n\u001b[1;32m    232\u001b[0m set_source_fingerprint(html_info, metric)\n\u001b[1;32m    233\u001b[0m replace_widgets_ids(html_info, id_generator)\n",
      "File \u001b[0;32m~/anaconda3/envs/drift_detection/lib/python3.10/site-packages/evidently/metrics/data_drift/dataset_drift_metric.py:111\u001b[0m, in \u001b[0;36mDataDriftMetricsRenderer.render_html\u001b[0;34m(self, obj)\u001b[0m\n\u001b[1;32m    110\u001b[0m \u001b[38;5;28;01mdef\u001b[39;00m \u001b[38;5;21mrender_html\u001b[39m(\u001b[38;5;28mself\u001b[39m, obj: DatasetDriftMetric) \u001b[38;5;241m-\u001b[39m\u001b[38;5;241m>\u001b[39m List[BaseWidgetInfo]:\n\u001b[0;32m--> 111\u001b[0m     result \u001b[38;5;241m=\u001b[39m \u001b[43mobj\u001b[49m\u001b[38;5;241;43m.\u001b[39;49m\u001b[43mget_result\u001b[49m\u001b[43m(\u001b[49m\u001b[43m)\u001b[49m\n\u001b[1;32m    113\u001b[0m     \u001b[38;5;28;01mif\u001b[39;00m result\u001b[38;5;241m.\u001b[39mdataset_drift:\n\u001b[1;32m    114\u001b[0m         drift_detected \u001b[38;5;241m=\u001b[39m \u001b[38;5;124m\"\u001b[39m\u001b[38;5;124mdetected\u001b[39m\u001b[38;5;124m\"\u001b[39m\n",
      "File \u001b[0;32m~/anaconda3/envs/drift_detection/lib/python3.10/site-packages/evidently/base_metric.py:259\u001b[0m, in \u001b[0;36mMetric.get_result\u001b[0;34m(self)\u001b[0m\n\u001b[1;32m    257\u001b[0m result \u001b[38;5;241m=\u001b[39m \u001b[38;5;28mself\u001b[39m\u001b[38;5;241m.\u001b[39m_context\u001b[38;5;241m.\u001b[39mmetric_results\u001b[38;5;241m.\u001b[39mget(\u001b[38;5;28mself\u001b[39m, \u001b[38;5;28;01mNone\u001b[39;00m)\n\u001b[1;32m    258\u001b[0m \u001b[38;5;28;01mif\u001b[39;00m \u001b[38;5;28misinstance\u001b[39m(result, ErrorResult):\n\u001b[0;32m--> 259\u001b[0m     \u001b[38;5;28;01mraise\u001b[39;00m result\u001b[38;5;241m.\u001b[39mexception\n\u001b[1;32m    260\u001b[0m \u001b[38;5;28;01mif\u001b[39;00m result \u001b[38;5;129;01mis\u001b[39;00m \u001b[38;5;28;01mNone\u001b[39;00m:\n\u001b[1;32m    261\u001b[0m     \u001b[38;5;28;01mraise\u001b[39;00m \u001b[38;5;167;01mValueError\u001b[39;00m(\u001b[38;5;124mf\u001b[39m\u001b[38;5;124m\"\u001b[39m\u001b[38;5;124mNo result found for metric \u001b[39m\u001b[38;5;132;01m{\u001b[39;00m\u001b[38;5;28mself\u001b[39m\u001b[38;5;132;01m}\u001b[39;00m\u001b[38;5;124m of type \u001b[39m\u001b[38;5;132;01m{\u001b[39;00m\u001b[38;5;28mtype\u001b[39m(\u001b[38;5;28mself\u001b[39m)\u001b[38;5;241m.\u001b[39m\u001b[38;5;18m__name__\u001b[39m\u001b[38;5;132;01m}\u001b[39;00m\u001b[38;5;124m\"\u001b[39m)\n",
      "File \u001b[0;32m~/anaconda3/envs/drift_detection/lib/python3.10/site-packages/evidently/calculation_engine/engine.py:53\u001b[0m, in \u001b[0;36mEngine.execute_metrics\u001b[0;34m(self, context, data)\u001b[0m\n\u001b[1;32m     51\u001b[0m logging\u001b[38;5;241m.\u001b[39mdebug(\u001b[38;5;124mf\u001b[39m\u001b[38;5;124m\"\u001b[39m\u001b[38;5;124mExecuting \u001b[39m\u001b[38;5;132;01m{\u001b[39;00m\u001b[38;5;28mtype\u001b[39m(calculation)\u001b[38;5;132;01m}\u001b[39;00m\u001b[38;5;124m...\u001b[39m\u001b[38;5;124m\"\u001b[39m)\n\u001b[1;32m     52\u001b[0m \u001b[38;5;28;01mtry\u001b[39;00m:\n\u001b[0;32m---> 53\u001b[0m     calculations[metric] \u001b[38;5;241m=\u001b[39m \u001b[43mcalculation\u001b[49m\u001b[38;5;241;43m.\u001b[39;49m\u001b[43mcalculate\u001b[49m\u001b[43m(\u001b[49m\u001b[43mcontext\u001b[49m\u001b[43m,\u001b[49m\u001b[43m \u001b[49m\u001b[43mconverted_data\u001b[49m\u001b[43m)\u001b[49m\n\u001b[1;32m     54\u001b[0m \u001b[38;5;28;01mexcept\u001b[39;00m \u001b[38;5;167;01mBaseException\u001b[39;00m \u001b[38;5;28;01mas\u001b[39;00m ex:\n\u001b[1;32m     55\u001b[0m     calculations[metric] \u001b[38;5;241m=\u001b[39m ErrorResult(exception\u001b[38;5;241m=\u001b[39mex)\n",
      "File \u001b[0;32m~/anaconda3/envs/drift_detection/lib/python3.10/site-packages/evidently/calculation_engine/python_engine.py:100\u001b[0m, in \u001b[0;36mPythonEngine.get_metric_implementation.<locals>._Wrapper.calculate\u001b[0;34m(self, context, data)\u001b[0m\n\u001b[1;32m     99\u001b[0m \u001b[38;5;28;01mdef\u001b[39;00m \u001b[38;5;21mcalculate\u001b[39m(\u001b[38;5;28mself\u001b[39m, context, data: PythonInputData):\n\u001b[0;32m--> 100\u001b[0m     \u001b[38;5;28;01mreturn\u001b[39;00m \u001b[38;5;28;43mself\u001b[39;49m\u001b[38;5;241;43m.\u001b[39;49m\u001b[43mmetric\u001b[49m\u001b[38;5;241;43m.\u001b[39;49m\u001b[43mcalculate\u001b[49m\u001b[43m(\u001b[49m\u001b[43mdata\u001b[49m\u001b[43m)\u001b[49m\n",
      "File \u001b[0;32m~/anaconda3/envs/drift_detection/lib/python3.10/site-packages/evidently/metrics/data_drift/dataset_drift_metric.py:90\u001b[0m, in \u001b[0;36mDatasetDriftMetric.calculate\u001b[0;34m(self, data)\u001b[0m\n\u001b[1;32m     87\u001b[0m     \u001b[38;5;28;01mraise\u001b[39;00m \u001b[38;5;167;01mValueError\u001b[39;00m(\u001b[38;5;124m\"\u001b[39m\u001b[38;5;124mReference dataset should be present\u001b[39m\u001b[38;5;124m\"\u001b[39m)\n\u001b[1;32m     89\u001b[0m dataset_columns \u001b[38;5;241m=\u001b[39m process_columns(data\u001b[38;5;241m.\u001b[39mreference_data, data\u001b[38;5;241m.\u001b[39mcolumn_mapping)\n\u001b[0;32m---> 90\u001b[0m result \u001b[38;5;241m=\u001b[39m \u001b[43mget_drift_for_columns\u001b[49m\u001b[43m(\u001b[49m\n\u001b[1;32m     91\u001b[0m \u001b[43m    \u001b[49m\u001b[43mcurrent_data\u001b[49m\u001b[38;5;241;43m=\u001b[39;49m\u001b[43mdata\u001b[49m\u001b[38;5;241;43m.\u001b[39;49m\u001b[43mcurrent_data\u001b[49m\u001b[43m,\u001b[49m\n\u001b[1;32m     92\u001b[0m \u001b[43m    \u001b[49m\u001b[43mreference_data\u001b[49m\u001b[38;5;241;43m=\u001b[39;49m\u001b[43mdata\u001b[49m\u001b[38;5;241;43m.\u001b[39;49m\u001b[43mreference_data\u001b[49m\u001b[43m,\u001b[49m\n\u001b[1;32m     93\u001b[0m \u001b[43m    \u001b[49m\u001b[43mdata_drift_options\u001b[49m\u001b[38;5;241;43m=\u001b[39;49m\u001b[38;5;28;43mself\u001b[39;49m\u001b[38;5;241;43m.\u001b[39;49m\u001b[43mdrift_options\u001b[49m\u001b[43m,\u001b[49m\n\u001b[1;32m     94\u001b[0m \u001b[43m    \u001b[49m\u001b[43mdrift_share_threshold\u001b[49m\u001b[38;5;241;43m=\u001b[39;49m\u001b[38;5;28;43mself\u001b[39;49m\u001b[38;5;241;43m.\u001b[39;49m\u001b[43mdrift_share\u001b[49m\u001b[43m,\u001b[49m\n\u001b[1;32m     95\u001b[0m \u001b[43m    \u001b[49m\u001b[43mdataset_columns\u001b[49m\u001b[38;5;241;43m=\u001b[39;49m\u001b[43mdataset_columns\u001b[49m\u001b[43m,\u001b[49m\n\u001b[1;32m     96\u001b[0m \u001b[43m    \u001b[49m\u001b[43mcolumns\u001b[49m\u001b[38;5;241;43m=\u001b[39;49m\u001b[38;5;28;43mself\u001b[39;49m\u001b[38;5;241;43m.\u001b[39;49m\u001b[43mcolumns\u001b[49m\u001b[43m,\u001b[49m\n\u001b[1;32m     97\u001b[0m \u001b[43m    \u001b[49m\u001b[43magg_data\u001b[49m\u001b[38;5;241;43m=\u001b[39;49m\u001b[38;5;28;43;01mTrue\u001b[39;49;00m\u001b[43m,\u001b[49m\n\u001b[1;32m     98\u001b[0m \u001b[43m\u001b[49m\u001b[43m)\u001b[49m\n\u001b[1;32m     99\u001b[0m \u001b[38;5;28;01mreturn\u001b[39;00m DatasetDriftMetricResults(\n\u001b[1;32m    100\u001b[0m     drift_share\u001b[38;5;241m=\u001b[39m\u001b[38;5;28mself\u001b[39m\u001b[38;5;241m.\u001b[39mdrift_share,\n\u001b[1;32m    101\u001b[0m     number_of_columns\u001b[38;5;241m=\u001b[39mresult\u001b[38;5;241m.\u001b[39mnumber_of_columns,\n\u001b[0;32m   (...)\u001b[0m\n\u001b[1;32m    104\u001b[0m     dataset_drift\u001b[38;5;241m=\u001b[39mresult\u001b[38;5;241m.\u001b[39mdataset_drift,\n\u001b[1;32m    105\u001b[0m )\n",
      "File \u001b[0;32m~/anaconda3/envs/drift_detection/lib/python3.10/site-packages/evidently/calculations/data_drift.py:452\u001b[0m, in \u001b[0;36mget_drift_for_columns\u001b[0;34m(current_data, reference_data, dataset_columns, data_drift_options, drift_share_threshold, columns, agg_data)\u001b[0m\n\u001b[1;32m    449\u001b[0m drift_by_columns: Dict[\u001b[38;5;28mstr\u001b[39m, ColumnDataDriftMetrics] \u001b[38;5;241m=\u001b[39m {}\n\u001b[1;32m    451\u001b[0m dataset \u001b[38;5;241m=\u001b[39m pd\u001b[38;5;241m.\u001b[39mconcat([reference_data, current_data])\n\u001b[0;32m--> 452\u001b[0m columns_types \u001b[38;5;241m=\u001b[39m {\n\u001b[1;32m    453\u001b[0m     column_name: recognize_column_type_(\n\u001b[1;32m    454\u001b[0m         dataset\u001b[38;5;241m=\u001b[39mdataset,\n\u001b[1;32m    455\u001b[0m         column_name\u001b[38;5;241m=\u001b[39mcolumn_name,\n\u001b[1;32m    456\u001b[0m         columns\u001b[38;5;241m=\u001b[39mdataset_columns,\n\u001b[1;32m    457\u001b[0m     )\n\u001b[1;32m    458\u001b[0m     \u001b[38;5;28;01mfor\u001b[39;00m column_name \u001b[38;5;129;01min\u001b[39;00m columns\n\u001b[1;32m    459\u001b[0m }\n\u001b[1;32m    461\u001b[0m num_columns \u001b[38;5;241m=\u001b[39m [k \u001b[38;5;28;01mfor\u001b[39;00m k, v \u001b[38;5;129;01min\u001b[39;00m columns_types\u001b[38;5;241m.\u001b[39mitems() \u001b[38;5;28;01mif\u001b[39;00m v \u001b[38;5;241m==\u001b[39m ColumnType\u001b[38;5;241m.\u001b[39mNumerical]\n\u001b[1;32m    463\u001b[0m is_current_contains_nans \u001b[38;5;241m=\u001b[39m current_data\u001b[38;5;241m.\u001b[39misna()\u001b[38;5;241m.\u001b[39many()\n",
      "File \u001b[0;32m~/anaconda3/envs/drift_detection/lib/python3.10/site-packages/evidently/calculations/data_drift.py:453\u001b[0m, in \u001b[0;36m<dictcomp>\u001b[0;34m(.0)\u001b[0m\n\u001b[1;32m    449\u001b[0m drift_by_columns: Dict[\u001b[38;5;28mstr\u001b[39m, ColumnDataDriftMetrics] \u001b[38;5;241m=\u001b[39m {}\n\u001b[1;32m    451\u001b[0m dataset \u001b[38;5;241m=\u001b[39m pd\u001b[38;5;241m.\u001b[39mconcat([reference_data, current_data])\n\u001b[1;32m    452\u001b[0m columns_types \u001b[38;5;241m=\u001b[39m {\n\u001b[0;32m--> 453\u001b[0m     column_name: \u001b[43mrecognize_column_type_\u001b[49m\u001b[43m(\u001b[49m\n\u001b[1;32m    454\u001b[0m \u001b[43m        \u001b[49m\u001b[43mdataset\u001b[49m\u001b[38;5;241;43m=\u001b[39;49m\u001b[43mdataset\u001b[49m\u001b[43m,\u001b[49m\n\u001b[1;32m    455\u001b[0m \u001b[43m        \u001b[49m\u001b[43mcolumn_name\u001b[49m\u001b[38;5;241;43m=\u001b[39;49m\u001b[43mcolumn_name\u001b[49m\u001b[43m,\u001b[49m\n\u001b[1;32m    456\u001b[0m \u001b[43m        \u001b[49m\u001b[43mcolumns\u001b[49m\u001b[38;5;241;43m=\u001b[39;49m\u001b[43mdataset_columns\u001b[49m\u001b[43m,\u001b[49m\n\u001b[1;32m    457\u001b[0m \u001b[43m    \u001b[49m\u001b[43m)\u001b[49m\n\u001b[1;32m    458\u001b[0m     \u001b[38;5;28;01mfor\u001b[39;00m column_name \u001b[38;5;129;01min\u001b[39;00m columns\n\u001b[1;32m    459\u001b[0m }\n\u001b[1;32m    461\u001b[0m num_columns \u001b[38;5;241m=\u001b[39m [k \u001b[38;5;28;01mfor\u001b[39;00m k, v \u001b[38;5;129;01min\u001b[39;00m columns_types\u001b[38;5;241m.\u001b[39mitems() \u001b[38;5;28;01mif\u001b[39;00m v \u001b[38;5;241m==\u001b[39m ColumnType\u001b[38;5;241m.\u001b[39mNumerical]\n\u001b[1;32m    463\u001b[0m is_current_contains_nans \u001b[38;5;241m=\u001b[39m current_data\u001b[38;5;241m.\u001b[39misna()\u001b[38;5;241m.\u001b[39many()\n",
      "File \u001b[0;32m~/anaconda3/envs/drift_detection/lib/python3.10/site-packages/evidently/utils/data_operations.py:174\u001b[0m, in \u001b[0;36mrecognize_column_type_\u001b[0;34m(dataset, column_name, columns)\u001b[0m\n\u001b[1;32m    172\u001b[0m \u001b[38;5;28;01mdef\u001b[39;00m \u001b[38;5;21mrecognize_column_type_\u001b[39m(dataset: pd\u001b[38;5;241m.\u001b[39mDataFrame, column_name: \u001b[38;5;28mstr\u001b[39m, columns: DatasetColumns) \u001b[38;5;241m-\u001b[39m\u001b[38;5;241m>\u001b[39m ColumnType:\n\u001b[1;32m    173\u001b[0m \u001b[38;5;250m    \u001b[39m\u001b[38;5;124;03m\"\"\"Try to get the column type.\"\"\"\u001b[39;00m\n\u001b[0;32m--> 174\u001b[0m     column \u001b[38;5;241m=\u001b[39m \u001b[43mdataset\u001b[49m\u001b[43m[\u001b[49m\u001b[43mcolumn_name\u001b[49m\u001b[43m]\u001b[49m\n\u001b[1;32m    175\u001b[0m     reg_condition \u001b[38;5;241m=\u001b[39m columns\u001b[38;5;241m.\u001b[39mtask \u001b[38;5;241m==\u001b[39m \u001b[38;5;124m\"\u001b[39m\u001b[38;5;124mregression\u001b[39m\u001b[38;5;124m\"\u001b[39m \u001b[38;5;129;01mor\u001b[39;00m (\n\u001b[1;32m    176\u001b[0m         pd\u001b[38;5;241m.\u001b[39mapi\u001b[38;5;241m.\u001b[39mtypes\u001b[38;5;241m.\u001b[39mis_numeric_dtype(column) \u001b[38;5;129;01mand\u001b[39;00m columns\u001b[38;5;241m.\u001b[39mtask \u001b[38;5;241m!=\u001b[39m \u001b[38;5;124m\"\u001b[39m\u001b[38;5;124mclassification\u001b[39m\u001b[38;5;124m\"\u001b[39m \u001b[38;5;129;01mand\u001b[39;00m column\u001b[38;5;241m.\u001b[39mnunique() \u001b[38;5;241m>\u001b[39m \u001b[38;5;241m5\u001b[39m\n\u001b[1;32m    177\u001b[0m     )\n\u001b[1;32m    178\u001b[0m     \u001b[38;5;28;01mif\u001b[39;00m column_name \u001b[38;5;241m==\u001b[39m columns\u001b[38;5;241m.\u001b[39mutility_columns\u001b[38;5;241m.\u001b[39mtarget:\n",
      "File \u001b[0;32m~/anaconda3/envs/drift_detection/lib/python3.10/site-packages/pandas/core/frame.py:4102\u001b[0m, in \u001b[0;36mDataFrame.__getitem__\u001b[0;34m(self, key)\u001b[0m\n\u001b[1;32m   4100\u001b[0m \u001b[38;5;28;01mif\u001b[39;00m \u001b[38;5;28mself\u001b[39m\u001b[38;5;241m.\u001b[39mcolumns\u001b[38;5;241m.\u001b[39mnlevels \u001b[38;5;241m>\u001b[39m \u001b[38;5;241m1\u001b[39m:\n\u001b[1;32m   4101\u001b[0m     \u001b[38;5;28;01mreturn\u001b[39;00m \u001b[38;5;28mself\u001b[39m\u001b[38;5;241m.\u001b[39m_getitem_multilevel(key)\n\u001b[0;32m-> 4102\u001b[0m indexer \u001b[38;5;241m=\u001b[39m \u001b[38;5;28;43mself\u001b[39;49m\u001b[38;5;241;43m.\u001b[39;49m\u001b[43mcolumns\u001b[49m\u001b[38;5;241;43m.\u001b[39;49m\u001b[43mget_loc\u001b[49m\u001b[43m(\u001b[49m\u001b[43mkey\u001b[49m\u001b[43m)\u001b[49m\n\u001b[1;32m   4103\u001b[0m \u001b[38;5;28;01mif\u001b[39;00m is_integer(indexer):\n\u001b[1;32m   4104\u001b[0m     indexer \u001b[38;5;241m=\u001b[39m [indexer]\n",
      "File \u001b[0;32m~/anaconda3/envs/drift_detection/lib/python3.10/site-packages/pandas/core/indexes/range.py:417\u001b[0m, in \u001b[0;36mRangeIndex.get_loc\u001b[0;34m(self, key)\u001b[0m\n\u001b[1;32m    415\u001b[0m         \u001b[38;5;28;01mraise\u001b[39;00m \u001b[38;5;167;01mKeyError\u001b[39;00m(key) \u001b[38;5;28;01mfrom\u001b[39;00m \u001b[38;5;21;01merr\u001b[39;00m\n\u001b[1;32m    416\u001b[0m \u001b[38;5;28;01mif\u001b[39;00m \u001b[38;5;28misinstance\u001b[39m(key, Hashable):\n\u001b[0;32m--> 417\u001b[0m     \u001b[38;5;28;01mraise\u001b[39;00m \u001b[38;5;167;01mKeyError\u001b[39;00m(key)\n\u001b[1;32m    418\u001b[0m \u001b[38;5;28mself\u001b[39m\u001b[38;5;241m.\u001b[39m_check_indexing_error(key)\n\u001b[1;32m    419\u001b[0m \u001b[38;5;28;01mraise\u001b[39;00m \u001b[38;5;167;01mKeyError\u001b[39;00m(key)\n",
      "\u001b[0;31mKeyError\u001b[0m: '0'"
     ]
    }
   ],
   "source": [
    "data_drift_report.save_html('data_drift_report.html')"
   ]
  },
  {
   "cell_type": "markdown",
   "metadata": {},
   "source": [
    "## SIMPLE DRIFT DETECTION ALGORITHM FROM SCRATCH"
   ]
  },
  {
   "cell_type": "code",
   "execution_count": 38,
   "metadata": {},
   "outputs": [],
   "source": [
    "# todo\n",
    "# choose 1 or 2 methods and implement from scratch in python"
   ]
  }
 ],
 "metadata": {
  "kernelspec": {
   "display_name": "drift_detection",
   "language": "python",
   "name": "python3"
  },
  "language_info": {
   "codemirror_mode": {
    "name": "ipython",
    "version": 3
   },
   "file_extension": ".py",
   "mimetype": "text/x-python",
   "name": "python",
   "nbconvert_exporter": "python",
   "pygments_lexer": "ipython3",
   "version": "3.10.13"
  }
 },
 "nbformat": 4,
 "nbformat_minor": 2
}
